{
 "cells": [
  {
   "cell_type": "markdown",
   "id": "dc0ff49c-1882-4888-a8ff-7229e86d3d89",
   "metadata": {},
   "source": [
    "# Gaussian process classifier for MNIST\n",
    "\n",
    "This notebook trains and evaluates a random Fourier feature based Gaussian process classifier model (RFFGPC) on the MNIST dataset.\n",
    "By changing the parameters and repeating the learning and evaluation of this notebook, the following results can be obtained.\n",
    "Note that the accuracy may vary slightly due to the influence of random numbers.\n",
    "The results shown in the figure are run on the author's computer with the random number seed fixed as `rfflearn.seed(111)`.\n",
    "\n",
    "<div align=\"center\">\n",
    "    <img src=\"./figures/Inference_time_and_acc_on_MNIST_gpc.svg\" width=\"640\" alt=\"Inference time and acc on MNIST\"/>\n",
    "</div>"
   ]
  },
  {
   "cell_type": "code",
   "execution_count": 1,
   "id": "f1e9ce10-df68-4c72-8a32-d53d3fb08203",
   "metadata": {},
   "outputs": [],
   "source": [
    "import numpy as np\n",
    "import sklearn.datasets\n",
    "\n",
    "# Import rfflearn.\n",
    "import rfflearn.cpu as rfflearn\n",
    "\n",
    "# If you want to enable GPU, please import rfflearn like the following instead.\n",
    "#import rfflearn.gpu as rfflearn"
   ]
  },
  {
   "cell_type": "markdown",
   "id": "6387a769-38fe-4e9c-b8f6-a275a51458ae",
   "metadata": {},
   "source": [
    "## Prepare MNIST dataset\n",
    "\n",
    "### Load MNIST dataset\n",
    "\n",
    "Load the MNIST dataset using `sklearn.fetch_openml` and standardize it.\n",
    "Also the loaded label data is expressed as a string, so it is converted to an integer type."
   ]
  },
  {
   "cell_type": "code",
   "execution_count": 2,
   "id": "23eb69c6-bfac-4f8c-85ef-92e2b87571d5",
   "metadata": {},
   "outputs": [
    {
     "name": "stdout",
     "output_type": "stream",
     "text": [
      "CPU times: total: 5.05 s\n",
      "Wall time: 18.4 s\n"
     ]
    }
   ],
   "source": [
    "%%time\n",
    "\n",
    "# Load MNIST.\n",
    "Xs, ys = sklearn.datasets.fetch_openml(\"mnist_784\", version=1, return_X_y=True, as_frame=False, data_home=\"./scikit_learn_data\")\n",
    "\n",
    "# Split to training and test data.\n",
    "Xs_train, Xs_test, ys_train, ys_test = sklearn.model_selection.train_test_split(Xs, ys, test_size=10000, shuffle=False)\n",
    "\n",
    "# Standardize the data (convert the input data range from [0, 255] to [0, 1]).\n",
    "Xs_train = Xs_train.astype(np.float64) / 255.0\n",
    "Xs_test  = Xs_test.astype(np.float64)  / 255.0\n",
    "\n",
    "# Convert the string label to integer label.\n",
    "ys_train = ys_train.astype(np.int32)\n",
    "ys_test  = ys_test.astype(np.int32)"
   ]
  },
  {
   "cell_type": "markdown",
   "id": "d6507f99-ac27-4ad0-a132-012b5081de54",
   "metadata": {},
   "source": [
    "### Data dimension reduction\n",
    "\n",
    "Reduce data dimension using PCA.\n",
    "This step is not necessary, but contribute to the test accuracy."
   ]
  },
  {
   "cell_type": "code",
   "execution_count": 3,
   "id": "3578fffc-086f-44a4-aea2-c86f943ec836",
   "metadata": {},
   "outputs": [
    {
     "name": "stdout",
     "output_type": "stream",
     "text": [
      "CPU times: total: 2.53 s\n",
      "Wall time: 603 ms\n"
     ]
    }
   ],
   "source": [
    "%%time\n",
    "\n",
    "dim_pca = 128\n",
    "\n",
    "# Create matrix for principal component analysis.\n",
    "_, V = np.linalg.eig(Xs_train.T @ Xs_train)\n",
    "T = np.real(V[:, :dim_pca])"
   ]
  },
  {
   "cell_type": "markdown",
   "id": "5c52bf92-fa7a-475a-b0fd-1822ea043930",
   "metadata": {},
   "source": [
    "## Train and evaluate a GPC model\n",
    "\n",
    "### Instanciate GPC model\n",
    "\n",
    "Instanciate one of the following GPC model:\n",
    "\n",
    "* `RFFGPC`: Gaussian process classifier with random Fourier features.\n",
    "* `ORFGPC`: Similar to `RFFGPC`, but orthogonal random features are used.\n",
    "* `QRFGPC`: Similar to `RFFGPC`, but quasi-random numbers are used."
   ]
  },
  {
   "cell_type": "code",
   "execution_count": 4,
   "id": "6925b896-b21b-4aa0-87f4-023417c6da79",
   "metadata": {},
   "outputs": [],
   "source": [
    "# Gaussian process classifier with random Fourier features.\n",
    "gpc = rfflearn.RFFGPC(dim_kernel=10000, std_kernel=0.10, std_error=0.1)\n",
    "\n",
    "# Gaussian process classifier with orthogonal random features.\n",
    "# gpc = rfflearn.ORFGPC(dim_kernel=10000, std_kernel=0.10, std_error=0.1)\n",
    "\n",
    "# Gaussian process classifier with quasi-random Fourier features.\n",
    "# gpc = rfflearn.QRFGPC(dim_kernel=10000, std_kernel=0.10, std_error=0.1)"
   ]
  },
  {
   "cell_type": "markdown",
   "id": "f08667c3-3b72-4f4c-bfc0-a568321fd5d3",
   "metadata": {},
   "source": [
    "### Train the model\n",
    "\n",
    "Train the Gaussian process model."
   ]
  },
  {
   "cell_type": "code",
   "execution_count": 5,
   "id": "e010dbe3-2dd1-49a2-96e9-e40eb5f684e3",
   "metadata": {},
   "outputs": [
    {
     "name": "stdout",
     "output_type": "stream",
     "text": [
      "CPU times: total: 9min 3s\n",
      "Wall time: 1min 30s\n"
     ]
    },
    {
     "data": {
      "text/plain": [
       "<rfflearn.cpu.rfflearn_cpu_gp.RFFGPC at 0x1279fabb3b0>"
      ]
     },
     "execution_count": 5,
     "metadata": {},
     "output_type": "execute_result"
    }
   ],
   "source": [
    "%%time\n",
    "\n",
    "rfflearn.seed(111)\n",
    "\n",
    "# Train GPC.\n",
    "gpc.fit(Xs_train @ T, ys_train)"
   ]
  },
  {
   "cell_type": "markdown",
   "id": "b78e7a90-b85a-4bad-84c4-1ecf0eb3c675",
   "metadata": {},
   "source": [
    "### Evaluate on the test data"
   ]
  },
  {
   "cell_type": "code",
   "execution_count": 6,
   "id": "b6b5a381-e911-4e3a-9f36-4d7019672e5a",
   "metadata": {},
   "outputs": [
    {
     "name": "stdout",
     "output_type": "stream",
     "text": [
      "Score = 98.12 [%]\n",
      "CPU times: total: 5.14 s\n",
      "Wall time: 3.11 s\n"
     ]
    }
   ],
   "source": [
    "%%time\n",
    "\n",
    "# Calculate score for test data.\n",
    "score = 100 * gpc.score(Xs_test @ T, ys_test)\n",
    "print(f\"Score = {score:.2f} [%]\")"
   ]
  },
  {
   "cell_type": "code",
   "execution_count": null,
   "id": "daded9ae-3bfd-413c-93dd-a711a802fcd7",
   "metadata": {},
   "outputs": [],
   "source": []
  }
 ],
 "metadata": {
  "kernelspec": {
   "display_name": "Python 3 (ipykernel)",
   "language": "python",
   "name": "python3"
  },
  "language_info": {
   "codemirror_mode": {
    "name": "ipython",
    "version": 3
   },
   "file_extension": ".py",
   "mimetype": "text/x-python",
   "name": "python",
   "nbconvert_exporter": "python",
   "pygments_lexer": "ipython3",
   "version": "3.12.4"
  }
 },
 "nbformat": 4,
 "nbformat_minor": 5
}
