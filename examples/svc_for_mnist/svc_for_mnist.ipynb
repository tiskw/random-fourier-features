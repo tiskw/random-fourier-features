{
 "cells": [
  {
   "cell_type": "markdown",
   "id": "3c043aa5-e09e-48be-ae61-e3187c8483da",
   "metadata": {},
   "source": [
    "# SVC for MNIST\n",
    "\n",
    "This notebook trains and evaluates a random Fourier feature SVM classifier model (RFFSVC) on the MNIST dataset.\n",
    "This notebook has two sections:\n",
    "\n",
    "1. Train and evaluate a RFF/ORF/QRF SVC model on the MNIST dataset.\n",
    "2. As a comparison with Kernel SVM, this notebook can also train and evaluate a kernel SVM under the same conditions as RFFSVC.\n",
    "3. Hyperparameter tuning using Optuna interface in `rfflearn`.\n",
    "\n",
    "By changing the parameters and repeating the learning and evaluation based on the code in (1), the following results can be obtained.\n",
    "\n",
    "Notes:\n",
    "* The accuracy may vary slightly due to the influence of random numbers. The results shown in the figure\n",
    "  are run on the author's computer with the random number seed fixed as `rfflearn.seed(111)`.\n",
    "* The GPU models in the figure below were trained on CPU, and only inference was performed on GPU\n",
    "  (hence the accuracy is completely consistent with the CPU models).\n",
    "  For the method of converting a CPU model to a GPU model, see `svc_train_cpu_predict_gpu.ipynb`.\n",
    "\n",
    "<div align=\"center\">\n",
    "    <img src=\"./figures/Inference_time_and_acc_on_MNIST_svc.svg\" width=\"600\" alt=\"Inference time and acc on MNIST\"/>\n",
    "    &nbsp;&nbsp;&nbsp;\n",
    "    <img src=\"./figures/Inference_time_vs_test_accuracy.svg\" width=\"600\" alt=\"Inference time vs test accuracy\">\n",
    "</div>"
   ]
  },
  {
   "cell_type": "code",
   "execution_count": 1,
   "id": "7b94f285-11bc-4405-884a-d954a47cd49d",
   "metadata": {},
   "outputs": [],
   "source": [
    "import numpy as np\n",
    "import sklearn.datasets\n",
    "import sklearn.svm\n",
    "\n",
    "# Import rfflearn.\n",
    "import rfflearn.cpu as rfflearn\n",
    "\n",
    "# If you want to enable GPU, please import rfflearn like the following instead.\n",
    "#import rfflearn.gpu as rfflearn"
   ]
  },
  {
   "cell_type": "markdown",
   "id": "7d24cb48-d946-43cc-8adf-5291b265f04a",
   "metadata": {},
   "source": [
    "## Prepare MNIST dataset\n",
    "\n",
    "### Load MNIST dataset\n",
    "\n",
    "Load the MNIST dataset using `sklearn.fetch_openml` and standardize it.\n",
    "Also the loaded label data is expressed as a string, so it is converted to an integer type."
   ]
  },
  {
   "cell_type": "code",
   "execution_count": 2,
   "id": "490b520e-1105-4af2-9081-9516c50e7bfa",
   "metadata": {},
   "outputs": [
    {
     "name": "stdout",
     "output_type": "stream",
     "text": [
      "CPU times: user 4.06 s, sys: 657 ms, total: 4.72 s\n",
      "Wall time: 19.1 s\n"
     ]
    }
   ],
   "source": [
    "%%time\n",
    "\n",
    "# Load MNIST.\n",
    "Xs, ys = sklearn.datasets.fetch_openml(\"mnist_784\", version=1, return_X_y=True, as_frame=False, data_home=\"./scikit_learn_data\")\n",
    "\n",
    "# Split to training and test data.\n",
    "Xs_train, Xs_test, ys_train, ys_test = sklearn.model_selection.train_test_split(Xs, ys, test_size=10000, shuffle=False)\n",
    "\n",
    "# Standardize the data (convert the input data range from [0, 255] to [0, 1]).\n",
    "Xs_train = Xs_train.astype(np.float64) / 255.0\n",
    "Xs_test  = Xs_test.astype(np.float64)  / 255.0\n",
    "\n",
    "# Convert the string label to integer label.\n",
    "ys_train = ys_train.astype(np.int32)\n",
    "ys_test  = ys_test.astype(np.int32)"
   ]
  },
  {
   "cell_type": "markdown",
   "id": "440eb4e1-80cf-4574-b7d6-09e5398f54a8",
   "metadata": {},
   "source": [
    "### Data dimension reduction\n",
    "\n",
    "Reduce data dimension using PCA.\n",
    "This step is not necessary, but contribute to the test accuracy."
   ]
  },
  {
   "cell_type": "code",
   "execution_count": 4,
   "id": "2a34a4cc-7008-49ed-90c6-659353390135",
   "metadata": {},
   "outputs": [
    {
     "name": "stdout",
     "output_type": "stream",
     "text": [
      "CPU times: user 54.2 s, sys: 44.8 ms, total: 54.2 s\n",
      "Wall time: 13.2 s\n"
     ]
    }
   ],
   "source": [
    "%%time\n",
    "\n",
    "dim_pca = 128\n",
    "\n",
    "# Create matrix for principal component analysis.\n",
    "_, V = np.linalg.eig(Xs_train.T @ Xs_train)\n",
    "T = np.real(V[:, :dim_pca])"
   ]
  },
  {
   "cell_type": "markdown",
   "id": "f76453dd-3f82-4199-a4da-183469524ddc",
   "metadata": {},
   "source": [
    "## Train and evaluate a SVM model\n",
    "\n",
    "### Instanciate SVM model\n",
    "\n",
    "Instanciate one of the following SVM model:\n",
    "\n",
    "* `RFFSVC`: SVM classifier with random Fourier features. It shows slightly better test accuracy and pretty fast inference speed than `SVC`.\n",
    "* `ORFSVC`: Similar to `RFFSVC`, but orthogonal random features are used.\n",
    "* `QRFSVC`: Similar to `RFFSVC`, but quasi-random numbers are used.\n",
    "* `SVC`: Kernel SVM classifier (not RFF) from Scikit-learn. It gives a little bad test accuracy to the others, and further, the inference speed is very slow."
   ]
  },
  {
   "cell_type": "code",
   "execution_count": 3,
   "id": "43701941-0f2d-4c01-bfa2-872e53cdc6a6",
   "metadata": {},
   "outputs": [],
   "source": [
    "# SVM classifier with random Fourier features.\n",
    "svc = rfflearn.RFFSVC(dim_kernel=1024, std_kernel=0.05)\n",
    "\n",
    "# SVM classifier with orthogonal random features.\n",
    "# svc = rfflearn.ORFSVC(dim_kernel=1024, std_kernel=0.05)\n",
    "\n",
    "# SVM classifier with quasi-random Fourier features.\n",
    "# svc = rfflearn.QRFSVC(dim_kernel=1024, std_kernel=0.05)\n",
    "\n",
    "# Kernel SVM classifier (not RFF). \n",
    "# svc = sklearn.svm.SVC(kernel=\"rbf\", gamma=\"auto\")"
   ]
  },
  {
   "cell_type": "markdown",
   "id": "72d1486d-5bc7-4fd9-b187-769060ab7c0b",
   "metadata": {},
   "source": [
    "### Train the model\n",
    "\n",
    "Train the SVM model."
   ]
  },
  {
   "cell_type": "code",
   "execution_count": 5,
   "id": "c9641bb5-0aef-4fd8-81d7-ec03b3aab624",
   "metadata": {},
   "outputs": [
    {
     "name": "stdout",
     "output_type": "stream",
     "text": [
      "CPU times: user 18 s, sys: 893 ms, total: 18.9 s\n",
      "Wall time: 1min 23s\n"
     ]
    },
    {
     "data": {
      "text/plain": [
       "<rfflearn.cpu.rfflearn_cpu_svc.RFFSVC at 0x7a00b0fcfec0>"
      ]
     },
     "execution_count": 5,
     "metadata": {},
     "output_type": "execute_result"
    }
   ],
   "source": [
    "%%time\n",
    "\n",
    "rfflearn.seed(111)\n",
    "\n",
    "# Train SVM.\n",
    "svc.fit(Xs_train @ T, ys_train)"
   ]
  },
  {
   "cell_type": "markdown",
   "id": "1b365fde-26e1-4810-aa22-d5daabefd169",
   "metadata": {},
   "source": [
    "### Evaluate on the test data"
   ]
  },
  {
   "cell_type": "code",
   "execution_count": 6,
   "id": "7d98ea19-cdc2-4bd0-a591-909a4b9ff0f8",
   "metadata": {},
   "outputs": [
    {
     "name": "stdout",
     "output_type": "stream",
     "text": [
      "Score = 97.34 [%]\n",
      "CPU times: user 2.98 s, sys: 394 ms, total: 3.37 s\n",
      "Wall time: 1.57 s\n"
     ]
    }
   ],
   "source": [
    "%%time\n",
    "\n",
    "# Calculate score for test data.\n",
    "score = 100 * svc.score(Xs_test @ T, ys_test)\n",
    "print(f\"Score = {score:.2f} [%]\")"
   ]
  },
  {
   "cell_type": "markdown",
   "id": "418fe2d4-c5c9-4533-87ea-75beb5319375",
   "metadata": {},
   "source": [
    "## Hyperparameter tuning using Optuna\n",
    "\n",
    "Re-split the training data to training and validation data. Then run the hyperparameter tuning."
   ]
  },
  {
   "cell_type": "code",
   "execution_count": 7,
   "id": "7b268fef-a383-4700-ae8e-5e840d4af308",
   "metadata": {},
   "outputs": [
    {
     "name": "stdout",
     "output_type": "stream",
     "text": [
      "Xs_opt_train.shape = (50000, 784)\n",
      "Xs_opt_valid.shape = (10000, 784)\n"
     ]
    }
   ],
   "source": [
    "Xs_opt_train, Xs_opt_valid, ys_opt_train, ys_opt_valid = sklearn.model_selection.train_test_split(Xs_train, ys_train, test_size=1/6)\n",
    "\n",
    "print(\"Xs_opt_train.shape =\", Xs_opt_train.shape)\n",
    "print(\"Xs_opt_valid.shape =\", Xs_opt_valid.shape)"
   ]
  },
  {
   "cell_type": "code",
   "execution_count": 8,
   "id": "32f8205c-8ee3-40c4-8042-71be7158b5e8",
   "metadata": {},
   "outputs": [],
   "source": [
    "study = rfflearn.RFFSVC_tuner(train_set=(Xs_opt_train @ T, ys_opt_train),\n",
    "                              valid_set=(Xs_opt_valid @ T, ys_opt_valid),\n",
    "                              verbose=0, n_trials=10, n_jobs=-1)"
   ]
  },
  {
   "cell_type": "code",
   "execution_count": 9,
   "id": "6b13d8a8-4e33-4d24-bc04-7d12b20908f9",
   "metadata": {},
   "outputs": [
    {
     "name": "stdout",
     "output_type": "stream",
     "text": [
      "- study.best_params: {'dim_kernel': 999, 'std_kernel': 0.03761772371488599}\n",
      "- study.best_value: 0.9708\n",
      "- study.best_model: <rfflearn.cpu.rfflearn_cpu_svc.RFFSVC object at 0x7a00b0fbc110>\n"
     ]
    }
   ],
   "source": [
    "# Show the result of the hyper parameter tuning.\n",
    "print(\"- study.best_params:\", study.best_params)\n",
    "print(\"- study.best_value:\",  study.best_value)\n",
    "print(\"- study.best_model:\",  study.user_attrs[\"best_model\"])"
   ]
  },
  {
   "cell_type": "code",
   "execution_count": null,
   "id": "3568f46c-208d-4053-883e-19ceb14b715c",
   "metadata": {},
   "outputs": [],
   "source": []
  }
 ],
 "metadata": {
  "kernelspec": {
   "display_name": "Python 3 (ipykernel)",
   "language": "python",
   "name": "python3"
  },
  "language_info": {
   "codemirror_mode": {
    "name": "ipython",
    "version": 3
   },
   "file_extension": ".py",
   "mimetype": "text/x-python",
   "name": "python",
   "nbconvert_exporter": "python",
   "pygments_lexer": "ipython3",
   "version": "3.12.4"
  }
 },
 "nbformat": 4,
 "nbformat_minor": 5
}
