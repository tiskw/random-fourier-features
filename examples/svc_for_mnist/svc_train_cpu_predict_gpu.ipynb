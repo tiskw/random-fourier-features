{
 "cells": [
  {
   "cell_type": "markdown",
   "id": "4168f1a1-14b2-4b03-b1d2-b6c6d78c5262",
   "metadata": {},
   "source": [
    "# Train SVC on CPU, predict on GPU\n",
    "\n",
    "This notebook trains SVC classifier with RFF on CPU, and predict on GPU."
   ]
  },
  {
   "cell_type": "code",
   "execution_count": 1,
   "id": "0de1a43c-54c5-4900-a41a-d41bbd4be6a8",
   "metadata": {},
   "outputs": [],
   "source": [
    "import numpy as np\n",
    "import sklearn.datasets\n",
    "import sklearn.svm\n",
    "\n",
    "# Import rfflearn.\n",
    "import rfflearn.cpu\n",
    "import rfflearn.gpu"
   ]
  },
  {
   "cell_type": "markdown",
   "id": "34f0bf5f-26d2-4e77-93a4-7ef287351ad7",
   "metadata": {},
   "source": [
    "## Prepare MNIST dataset\n",
    "\n",
    "### Load MNIST dataset\n",
    "\n",
    "Load the MNIST dataset using `sklearn.fetch_openml` and standardize it.\n",
    "Also the loaded label data is expressed as a string, so it is converted to an integer type."
   ]
  },
  {
   "cell_type": "code",
   "execution_count": 2,
   "id": "09eede83-83e8-47dd-a66c-a116850e9f8b",
   "metadata": {},
   "outputs": [
    {
     "name": "stdout",
     "output_type": "stream",
     "text": [
      "CPU times: total: 5.69 s\n",
      "Wall time: 5.68 s\n"
     ]
    }
   ],
   "source": [
    "%%time\n",
    "\n",
    "# Load MNIST.\n",
    "Xs, ys = sklearn.datasets.fetch_openml(\"mnist_784\", version=1, return_X_y=True, as_frame=False, data_home=\"./scikit_learn_data\")\n",
    "\n",
    "# Split to training and test data.\n",
    "Xs_train, Xs_test, ys_train, ys_test = sklearn.model_selection.train_test_split(Xs, ys, test_size=10000, shuffle=False)\n",
    "\n",
    "# Standardize the data (convert the input data range from [0, 255] to [0, 1]).\n",
    "Xs_train = Xs_train.astype(np.float64) / 255.0\n",
    "Xs_test  = Xs_test.astype(np.float64)  / 255.0\n",
    "\n",
    "# Convert the string label to integer label.\n",
    "ys_train = ys_train.astype(np.int32)\n",
    "ys_test  = ys_test.astype(np.int32)"
   ]
  },
  {
   "cell_type": "markdown",
   "id": "eeba87b2-96f7-4c98-88c2-7e3121150871",
   "metadata": {},
   "source": [
    "### Data dimension reduction\n",
    "\n",
    "Reduce data dimension using PCA.\n",
    "This step is not necessary, but contribute to the test accuracy."
   ]
  },
  {
   "cell_type": "code",
   "execution_count": 3,
   "id": "7a89e68b-3c30-455d-8b9f-bc946be0a1ad",
   "metadata": {},
   "outputs": [
    {
     "name": "stdout",
     "output_type": "stream",
     "text": [
      "CPU times: total: 2.84 s\n",
      "Wall time: 570 ms\n"
     ]
    }
   ],
   "source": [
    "%%time\n",
    "\n",
    "dim_pca = 128\n",
    "\n",
    "# Create matrix for principal component analysis.\n",
    "_, V = np.linalg.eig(Xs_train.T @ Xs_train)\n",
    "T = np.real(V[:, :dim_pca])"
   ]
  },
  {
   "cell_type": "markdown",
   "id": "b91811e6-fbab-4b18-bb2a-830b26d777fd",
   "metadata": {},
   "source": [
    "## Train SVM model on CPU\n",
    "\n",
    "Before transferring a RFFSVC model from CPU to GPU, train the RFFSVC model on CPU."
   ]
  },
  {
   "cell_type": "code",
   "execution_count": 4,
   "id": "69f4fc9c-9c62-4287-893a-a71692e5a296",
   "metadata": {},
   "outputs": [
    {
     "name": "stdout",
     "output_type": "stream",
     "text": [
      "CPU times: total: 11 s\n",
      "Wall time: 57.5 s\n"
     ]
    },
    {
     "data": {
      "text/plain": [
       "<rfflearn.cpu.rfflearn_cpu_svc.RFFSVC at 0x1e17de43950>"
      ]
     },
     "execution_count": 4,
     "metadata": {},
     "output_type": "execute_result"
    }
   ],
   "source": [
    "%%time\n",
    "\n",
    "# SVM classifier with random Fourier features.\n",
    "svc_cpu = rfflearn.cpu.RFFSVC(dim_kernel=1024, std_kernel=0.05)\n",
    "\n",
    "# Train SVM.\n",
    "svc_cpu.fit(Xs_train @ T, ys_train)"
   ]
  },
  {
   "cell_type": "markdown",
   "id": "bcfc9db2-cefd-4368-82d0-8ccc48251eb3",
   "metadata": {},
   "source": [
    "## Transfer SVM model from CPU to GPU\n",
    "\n",
    "Convert the CPU model to GPU model."
   ]
  },
  {
   "cell_type": "code",
   "execution_count": 5,
   "id": "c45722ce-98f3-4489-a926-5d3640d12d91",
   "metadata": {},
   "outputs": [],
   "source": [
    "svc_gpu = rfflearn.gpu.RFFSVC(svc_cpu=svc_cpu)"
   ]
  },
  {
   "cell_type": "markdown",
   "id": "eb1681f5-13d9-49b1-855b-f0e5dc55dedd",
   "metadata": {},
   "source": [
    "### Compare inference speed on CPU and GPU\n",
    "\n",
    "At first, prepare the input data (after PCA conversion)."
   ]
  },
  {
   "cell_type": "code",
   "execution_count": 6,
   "id": "ae512965-2e1f-4bbd-89b3-cb715dbc005c",
   "metadata": {},
   "outputs": [],
   "source": [
    "Xs = Xs_test @ T"
   ]
  },
  {
   "cell_type": "markdown",
   "id": "5259b72a-0853-4048-a73e-6174d13639c7",
   "metadata": {},
   "source": [
    "### Inference on CPU"
   ]
  },
  {
   "cell_type": "code",
   "execution_count": 7,
   "id": "27e6783a-130a-4133-bdf1-6a38ede9ef8c",
   "metadata": {},
   "outputs": [
    {
     "name": "stdout",
     "output_type": "stream",
     "text": [
      "CPU times: total: 1 s\n",
      "Wall time: 395 ms\n"
     ]
    }
   ],
   "source": [
    "%%time\n",
    "\n",
    "# Calculate score for test data.\n",
    "_ = svc_cpu.predict(Xs)"
   ]
  },
  {
   "cell_type": "markdown",
   "id": "40846356-bcd7-4a74-b8f4-2bc45b7a835d",
   "metadata": {},
   "source": [
    "### Inference on GPU"
   ]
  },
  {
   "cell_type": "code",
   "execution_count": 8,
   "id": "830c2e86-e8b4-43b8-849c-077148b2600a",
   "metadata": {},
   "outputs": [
    {
     "name": "stdout",
     "output_type": "stream",
     "text": [
      "CPU times: total: 125 ms\n",
      "Wall time: 41 ms\n"
     ]
    }
   ],
   "source": [
    "%%time\n",
    "\n",
    "# Calculate score for test data.\n",
    "_ = svc_gpu.predict(Xs)"
   ]
  },
  {
   "cell_type": "code",
   "execution_count": null,
   "id": "4c8b399b-9473-4802-8dbf-62c3c998b148",
   "metadata": {},
   "outputs": [],
   "source": []
  }
 ],
 "metadata": {
  "kernelspec": {
   "display_name": "Python 3 (ipykernel)",
   "language": "python",
   "name": "python3"
  },
  "language_info": {
   "codemirror_mode": {
    "name": "ipython",
    "version": 3
   },
   "file_extension": ".py",
   "mimetype": "text/x-python",
   "name": "python",
   "nbconvert_exporter": "python",
   "pygments_lexer": "ipython3",
   "version": "3.12.4"
  }
 },
 "nbformat": 4,
 "nbformat_minor": 5
}
